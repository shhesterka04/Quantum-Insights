{
  "nbformat": 4,
  "nbformat_minor": 0,
  "metadata": {
    "colab": {
      "provenance": [],
      "authorship_tag": "ABX9TyPA7yLGWud3p4gitRZ4/cIb",
      "include_colab_link": true
    },
    "kernelspec": {
      "name": "python3",
      "display_name": "Python 3"
    },
    "language_info": {
      "name": "python"
    }
  },
  "cells": [
    {
      "cell_type": "markdown",
      "metadata": {
        "id": "view-in-github",
        "colab_type": "text"
      },
      "source": [
        "<a href=\"https://colab.research.google.com/github/shhesterka04/Quantum-Insights/blob/main/1.ipynb\" target=\"_parent\"><img src=\"https://colab.research.google.com/assets/colab-badge.svg\" alt=\"Open In Colab\"/></a>"
      ]
    },
    {
      "cell_type": "code",
      "execution_count": null,
      "metadata": {
        "id": "EVDDtiG620rn"
      },
      "outputs": [],
      "source": [
        "try:\n",
        "    import cirq\n",
        "except ImportError:\n",
        "    print(\"installing cirq...\")\n",
        "    !pip install --quiet cirq\n",
        "    print(\"installed cirq.\")\n",
        "    import cirq\n",
        "\n",
        "import numpy as np"
      ]
    },
    {
      "cell_type": "code",
      "source": [
        "\"\"\"Define a custom single-qubit gate.\"\"\"\n",
        "class MyGate(cirq.Gate):\n",
        "    def __init__(self):\n",
        "        super(MyGate, self)\n",
        "\n",
        "    def _num_qubits_(self):\n",
        "        return 1\n",
        "\n",
        "    def _unitary_(self):\n",
        "        return np.array([\n",
        "            [1.0,  1.0],\n",
        "            [-1.0, 1.0]\n",
        "        ]) / np.sqrt(2)\n",
        "\n",
        "    def _circuit_diagram_info_(self, args):\n",
        "        return \"G\"\n",
        "\n",
        "my_gate = MyGate()"
      ],
      "metadata": {
        "id": "HdqgxuZa3AOL"
      },
      "execution_count": null,
      "outputs": []
    },
    {
      "cell_type": "code",
      "source": [
        "\"\"\"Use the custom gate in a circuit.\"\"\"\n",
        "circ = cirq.Circuit(\n",
        "    my_gate.on(cirq.LineQubit(0))\n",
        ")\n",
        "\n",
        "print(\"Circuit with custom gates:\")\n",
        "print(circ)"
      ],
      "metadata": {
        "colab": {
          "base_uri": "https://localhost:8080/"
        },
        "id": "3m2r0kQ_3sTV",
        "outputId": "e1e59f46-056b-4618-8acf-ede151bd7f8d"
      },
      "execution_count": null,
      "outputs": [
        {
          "output_type": "stream",
          "name": "stdout",
          "text": [
            "Circuit with custom gates:\n",
            "0: ───G───\n"
          ]
        }
      ]
    },
    {
      "cell_type": "code",
      "source": [
        "\"\"\"Simulate a circuit with a custom gate.\"\"\"\n",
        "circ = cirq.Circuit(\n",
        "    cirq.H(cirq.LineQubit(0))\n",
        ")\n",
        "\n",
        "sim = cirq.Simulator()\n",
        "\n",
        "res = sim.simulate(circ)\n",
        "print(res.final_state_vector)\n",
        "print(res)"
      ],
      "metadata": {
        "colab": {
          "base_uri": "https://localhost:8080/"
        },
        "id": "apeGvFth3wUM",
        "outputId": "a9b0ed84-e58f-423c-8f5a-2c6d1d3b9782"
      },
      "execution_count": null,
      "outputs": [
        {
          "output_type": "stream",
          "name": "stdout",
          "text": [
            "[0.70710677+0.j 0.70710677+0.j]\n",
            "measurements: (no measurements)\n",
            "\n",
            "qubits: (cirq.LineQubit(0),)\n",
            "output vector: 0.707|0⟩ + 0.707|1⟩\n",
            "\n",
            "phase:\n",
            "output vector: |⟩\n"
          ]
        }
      ]
    }
  ]
}