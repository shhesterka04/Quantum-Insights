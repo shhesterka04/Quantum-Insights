{
  "nbformat": 4,
  "nbformat_minor": 0,
  "metadata": {
    "colab": {
      "provenance": [],
      "authorship_tag": "ABX9TyPn8FoNJFvKt8we8IEIiLw4",
      "include_colab_link": true
    },
    "kernelspec": {
      "name": "python3",
      "display_name": "Python 3"
    },
    "language_info": {
      "name": "python"
    }
  },
  "cells": [
    {
      "cell_type": "markdown",
      "metadata": {
        "id": "view-in-github",
        "colab_type": "text"
      },
      "source": [
        "<a href=\"https://colab.research.google.com/github/shhesterka04/Quantum-Insights/blob/main/1.ipynb\" target=\"_parent\"><img src=\"https://colab.research.google.com/assets/colab-badge.svg\" alt=\"Open In Colab\"/></a>"
      ]
    },
    {
      "cell_type": "code",
      "execution_count": 1,
      "metadata": {
        "id": "EVDDtiG620rn"
      },
      "outputs": [],
      "source": [
        "try:\n",
        "    import cirq\n",
        "except ImportError:\n",
        "    print(\"installing cirq...\")\n",
        "    !pip install --quiet cirq\n",
        "    print(\"installed cirq.\")\n",
        "    import cirq\n",
        "\n",
        "import numpy as np"
      ]
    },
    {
      "cell_type": "code",
      "source": [
        "# Создаем наш произвольный гейт\n",
        "\"\"\"Define a custom single-qubit gate.\"\"\"\n",
        "class MyGate(cirq.Gate):\n",
        "    def __init__(self):\n",
        "        super(MyGate, self)\n",
        "\n",
        "    def _num_qubits_(self):\n",
        "        return 1\n",
        "\n",
        "    def _unitary_(self):\n",
        "        return np.array([\n",
        "            [1.0,  1.0],\n",
        "            [1.0, -1.0]\n",
        "        ]) / np.sqrt(2)\n",
        "\n",
        "    def _circuit_diagram_info_(self, args):\n",
        "        return \"G\"\n",
        "\n",
        "my_gate = MyGate()"
      ],
      "metadata": {
        "id": "HdqgxuZa3AOL"
      },
      "execution_count": 2,
      "outputs": []
    },
    {
      "cell_type": "code",
      "source": [
        "# Здесь мы применяем гейт адамара и выводим вектор\n",
        "\"\"\"Simulate a circuit with a custom gate.\"\"\"\n",
        "circ = cirq.Circuit(\n",
        "    cirq.H(cirq.LineQubit(0))\n",
        ")\n",
        "\n",
        "sim = cirq.Simulator()\n",
        "\n",
        "res = sim.simulate(circ)\n",
        "print(res.final_state_vector)\n",
        "print(res)"
      ],
      "metadata": {
        "colab": {
          "base_uri": "https://localhost:8080/"
        },
        "id": "apeGvFth3wUM",
        "outputId": "869c3f86-a0ea-4e3d-b798-f916d148f0ec"
      },
      "execution_count": 4,
      "outputs": [
        {
          "output_type": "stream",
          "name": "stdout",
          "text": [
            "[0.70710677+0.j 0.70710677+0.j]\n",
            "measurements: (no measurements)\n",
            "\n",
            "qubits: (cirq.LineQubit(0),)\n",
            "output vector: 0.707|0⟩ + 0.707|1⟩\n",
            "\n",
            "phase:\n",
            "output vector: |⟩\n"
          ]
        }
      ]
    },
    {
      "cell_type": "code",
      "source": [
        "#Применение нашего my_gate на кубит q1 с контролирующим q0\n",
        "\n",
        "q1 = cirq.LineQubit(1)\n",
        "q2 = cirq.LineQubit(2)\n",
        "\n",
        "q0 = cirq.LineQubit(0)\n",
        "\n",
        "x = cirq.X(q0)\n",
        "moment0 = cirq.Moment(x)\n",
        "moment1 = cirq.Moment(my_gate.controlled().on(q0, q1))\n",
        "\n",
        "circuit = cirq.Circuit((moment0, moment1))\n",
        "\n",
        "sim = cirq.Simulator()\n",
        "\n",
        "res = sim.simulate(circuit)\n",
        "#print(res.final_state_vector)\n",
        "print(res)"
      ],
      "metadata": {
        "colab": {
          "base_uri": "https://localhost:8080/"
        },
        "id": "E0U6wsL3V8ik",
        "outputId": "1368b05e-e632-485d-de6d-4160f1e40a87"
      },
      "execution_count": 3,
      "outputs": [
        {
          "output_type": "stream",
          "name": "stdout",
          "text": [
            "measurements: (no measurements)\n",
            "\n",
            "qubits: (cirq.LineQubit(0), cirq.LineQubit(1))\n",
            "output vector: 0.707|10⟩ + 0.707|11⟩\n",
            "\n",
            "phase:\n",
            "output vector: |⟩\n"
          ]
        }
      ]
    }
  ]
}