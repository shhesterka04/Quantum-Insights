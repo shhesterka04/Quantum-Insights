{
  "nbformat": 4,
  "nbformat_minor": 0,
  "metadata": {
    "colab": {
      "provenance": [],
      "authorship_tag": "ABX9TyNe0h00vO4iRc8KmdooZmHv",
      "include_colab_link": true
    },
    "kernelspec": {
      "name": "python3",
      "display_name": "Python 3"
    },
    "language_info": {
      "name": "python"
    }
  },
  "cells": [
    {
      "cell_type": "markdown",
      "metadata": {
        "id": "view-in-github",
        "colab_type": "text"
      },
      "source": [
        "<a href=\"https://colab.research.google.com/github/shhesterka04/Quantum-Insights/blob/main/2.ipynb\" target=\"_parent\"><img src=\"https://colab.research.google.com/assets/colab-badge.svg\" alt=\"Open In Colab\"/></a>"
      ]
    },
    {
      "cell_type": "code",
      "execution_count": 1,
      "metadata": {
        "colab": {
          "base_uri": "https://localhost:8080/"
        },
        "id": "UKaJWGm-sMau",
        "outputId": "fa2c8ffa-9e1c-457e-a5d2-b40a72a4fbb8"
      },
      "outputs": [
        {
          "output_type": "stream",
          "name": "stdout",
          "text": [
            "installing cirq...\n",
            "\u001b[2K     \u001b[90m━━━━━━━━━━━━━━━━━━━━━━━━━━━━━━━━━━━━━━━━\u001b[0m \u001b[32m1.8/1.8 MB\u001b[0m \u001b[31m6.2 MB/s\u001b[0m eta \u001b[36m0:00:00\u001b[0m\n",
            "\u001b[2K     \u001b[90m━━━━━━━━━━━━━━━━━━━━━━━━━━━━━━━━━━━━━━\u001b[0m \u001b[32m142.7/142.7 kB\u001b[0m \u001b[31m10.4 MB/s\u001b[0m eta \u001b[36m0:00:00\u001b[0m\n",
            "\u001b[2K     \u001b[90m━━━━━━━━━━━━━━━━━━━━━━━━━━━━━━━━━━━━━━\u001b[0m \u001b[32m579.1/579.1 kB\u001b[0m \u001b[31m11.8 MB/s\u001b[0m eta \u001b[36m0:00:00\u001b[0m\n",
            "\u001b[2K     \u001b[90m━━━━━━━━━━━━━━━━━━━━━━━━━━━━━━━━━━━━━━━━\u001b[0m \u001b[32m58.2/58.2 kB\u001b[0m \u001b[31m5.3 MB/s\u001b[0m eta \u001b[36m0:00:00\u001b[0m\n",
            "\u001b[2K     \u001b[90m━━━━━━━━━━━━━━━━━━━━━━━━━━━━━━━━━━━━━━━━\u001b[0m \u001b[32m66.5/66.5 kB\u001b[0m \u001b[31m6.2 MB/s\u001b[0m eta \u001b[36m0:00:00\u001b[0m\n",
            "\u001b[2K     \u001b[90m━━━━━━━━━━━━━━━━━━━━━━━━━━━━━━━━━━━━━━\u001b[0m \u001b[32m596.4/596.4 kB\u001b[0m \u001b[31m13.0 MB/s\u001b[0m eta \u001b[36m0:00:00\u001b[0m\n",
            "\u001b[2K     \u001b[90m━━━━━━━━━━━━━━━━━━━━━━━━━━━━━━━━━━━━━━\u001b[0m \u001b[32m221.0/221.0 kB\u001b[0m \u001b[31m12.5 MB/s\u001b[0m eta \u001b[36m0:00:00\u001b[0m\n",
            "\u001b[2K     \u001b[90m━━━━━━━━━━━━━━━━━━━━━━━━━━━━━━━━━━━━━━\u001b[0m \u001b[32m229.9/229.9 kB\u001b[0m \u001b[31m10.8 MB/s\u001b[0m eta \u001b[36m0:00:00\u001b[0m\n",
            "\u001b[?25h  Preparing metadata (setup.py) ... \u001b[?25l\u001b[?25hdone\n",
            "\u001b[2K     \u001b[90m━━━━━━━━━━━━━━━━━━━━━━━━━━━━━━━━━━━━━━━━\u001b[0m \u001b[32m2.0/2.0 MB\u001b[0m \u001b[31m18.4 MB/s\u001b[0m eta \u001b[36m0:00:00\u001b[0m\n",
            "\u001b[2K     \u001b[90m━━━━━━━━━━━━━━━━━━━━━━━━━━━━━━━━━━━━━━\u001b[0m \u001b[32m151.7/151.7 kB\u001b[0m \u001b[31m16.6 MB/s\u001b[0m eta \u001b[36m0:00:00\u001b[0m\n",
            "\u001b[2K     \u001b[90m━━━━━━━━━━━━━━━━━━━━━━━━━━━━━━━━━━━━━━━━\u001b[0m \u001b[32m45.6/45.6 kB\u001b[0m \u001b[31m3.6 MB/s\u001b[0m eta \u001b[36m0:00:00\u001b[0m\n",
            "\u001b[?25h  Preparing metadata (setup.py) ... \u001b[?25l\u001b[?25hdone\n",
            "\u001b[2K     \u001b[90m━━━━━━━━━━━━━━━━━━━━━━━━━━━━━━━━━━━━━━━━\u001b[0m \u001b[32m1.6/1.6 MB\u001b[0m \u001b[31m24.3 MB/s\u001b[0m eta \u001b[36m0:00:00\u001b[0m\n",
            "\u001b[2K     \u001b[90m━━━━━━━━━━━━━━━━━━━━━━━━━━━━━━━━━━━━━━\u001b[0m \u001b[32m151.7/151.7 kB\u001b[0m \u001b[31m17.0 MB/s\u001b[0m eta \u001b[36m0:00:00\u001b[0m\n",
            "\u001b[2K     \u001b[90m━━━━━━━━━━━━━━━━━━━━━━━━━━━━━━━━━━━━━━\u001b[0m \u001b[32m151.7/151.7 kB\u001b[0m \u001b[31m16.6 MB/s\u001b[0m eta \u001b[36m0:00:00\u001b[0m\n",
            "\u001b[2K     \u001b[90m━━━━━━━━━━━━━━━━━━━━━━━━━━━━━━━━━━━━━━\u001b[0m \u001b[32m147.4/147.4 kB\u001b[0m \u001b[31m16.5 MB/s\u001b[0m eta \u001b[36m0:00:00\u001b[0m\n",
            "\u001b[2K     \u001b[90m━━━━━━━━━━━━━━━━━━━━━━━━━━━━━━━━━━━━━━\u001b[0m \u001b[32m147.4/147.4 kB\u001b[0m \u001b[31m15.8 MB/s\u001b[0m eta \u001b[36m0:00:00\u001b[0m\n",
            "\u001b[2K     \u001b[90m━━━━━━━━━━━━━━━━━━━━━━━━━━━━━━━━━━━━━━\u001b[0m \u001b[32m147.4/147.4 kB\u001b[0m \u001b[31m15.8 MB/s\u001b[0m eta \u001b[36m0:00:00\u001b[0m\n",
            "\u001b[2K     \u001b[90m━━━━━━━━━━━━━━━━━━━━━━━━━━━━━━━━━━━━━━\u001b[0m \u001b[32m142.7/142.7 kB\u001b[0m \u001b[31m14.9 MB/s\u001b[0m eta \u001b[36m0:00:00\u001b[0m\n",
            "\u001b[2K     \u001b[90m━━━━━━━━━━━━━━━━━━━━━━━━━━━━━━━━━━━━━━\u001b[0m \u001b[32m142.7/142.7 kB\u001b[0m \u001b[31m13.2 MB/s\u001b[0m eta \u001b[36m0:00:00\u001b[0m\n",
            "\u001b[2K     \u001b[90m━━━━━━━━━━━━━━━━━━━━━━━━━━━━━━━━━━━━━━\u001b[0m \u001b[32m101.2/101.2 kB\u001b[0m \u001b[31m10.9 MB/s\u001b[0m eta \u001b[36m0:00:00\u001b[0m\n",
            "\u001b[2K     \u001b[90m━━━━━━━━━━━━━━━━━━━━━━━━━━━━━━━━━━━━━━━━\u001b[0m \u001b[32m83.3/83.3 kB\u001b[0m \u001b[31m10.0 MB/s\u001b[0m eta \u001b[36m0:00:00\u001b[0m\n",
            "\u001b[2K     \u001b[90m━━━━━━━━━━━━━━━━━━━━━━━━━━━━━━━━━━━━━━━━\u001b[0m \u001b[32m83.4/83.4 kB\u001b[0m \u001b[31m8.2 MB/s\u001b[0m eta \u001b[36m0:00:00\u001b[0m\n",
            "\u001b[2K     \u001b[90m━━━━━━━━━━━━━━━━━━━━━━━━━━━━━━━━━━━━━━━━\u001b[0m \u001b[32m83.2/83.2 kB\u001b[0m \u001b[31m8.6 MB/s\u001b[0m eta \u001b[36m0:00:00\u001b[0m\n",
            "\u001b[2K     \u001b[90m━━━━━━━━━━━━━━━━━━━━━━━━━━━━━━━━━━━━━━━━\u001b[0m \u001b[32m82.5/82.5 kB\u001b[0m \u001b[31m9.2 MB/s\u001b[0m eta \u001b[36m0:00:00\u001b[0m\n",
            "\u001b[2K     \u001b[90m━━━━━━━━━━━━━━━━━━━━━━━━━━━━━━━━━━━━━━━━\u001b[0m \u001b[32m81.0/81.0 kB\u001b[0m \u001b[31m9.2 MB/s\u001b[0m eta \u001b[36m0:00:00\u001b[0m\n",
            "\u001b[2K     \u001b[90m━━━━━━━━━━━━━━━━━━━━━━━━━━━━━━━━━━━━━━━━\u001b[0m \u001b[32m81.0/81.0 kB\u001b[0m \u001b[31m7.3 MB/s\u001b[0m eta \u001b[36m0:00:00\u001b[0m\n",
            "\u001b[2K     \u001b[90m━━━━━━━━━━━━━━━━━━━━━━━━━━━━━━━━━━━━━━━━\u001b[0m \u001b[32m80.8/80.8 kB\u001b[0m \u001b[31m9.4 MB/s\u001b[0m eta \u001b[36m0:00:00\u001b[0m\n",
            "\u001b[2K     \u001b[90m━━━━━━━━━━━━━━━━━━━━━━━━━━━━━━━━━━━━━━━━\u001b[0m \u001b[32m80.7/80.7 kB\u001b[0m \u001b[31m7.7 MB/s\u001b[0m eta \u001b[36m0:00:00\u001b[0m\n",
            "\u001b[2K     \u001b[90m━━━━━━━━━━━━━━━━━━━━━━━━━━━━━━━━━━━━━━━━\u001b[0m \u001b[32m81.5/81.5 kB\u001b[0m \u001b[31m8.8 MB/s\u001b[0m eta \u001b[36m0:00:00\u001b[0m\n",
            "\u001b[2K     \u001b[90m━━━━━━━━━━━━━━━━━━━━━━━━━━━━━━━━━━━━━━━━\u001b[0m \u001b[32m90.4/90.4 kB\u001b[0m \u001b[31m10.9 MB/s\u001b[0m eta \u001b[36m0:00:00\u001b[0m\n",
            "\u001b[2K     \u001b[90m━━━━━━━━━━━━━━━━━━━━━━━━━━━━━━━━━━━━━━━━\u001b[0m \u001b[32m57.5/57.5 kB\u001b[0m \u001b[31m7.3 MB/s\u001b[0m eta \u001b[36m0:00:00\u001b[0m\n",
            "\u001b[2K     \u001b[90m━━━━━━━━━━━━━━━━━━━━━━━━━━━━━━━━━━━━━━━━\u001b[0m \u001b[32m60.6/60.6 kB\u001b[0m \u001b[31m6.1 MB/s\u001b[0m eta \u001b[36m0:00:00\u001b[0m\n",
            "\u001b[2K     \u001b[90m━━━━━━━━━━━━━━━━━━━━━━━━━━━━━━━━━━━━━━━━\u001b[0m \u001b[32m71.5/71.5 kB\u001b[0m \u001b[31m7.0 MB/s\u001b[0m eta \u001b[36m0:00:00\u001b[0m\n",
            "\u001b[2K     \u001b[90m━━━━━━━━━━━━━━━━━━━━━━━━━━━━━━━━━━━━━━━━\u001b[0m \u001b[32m98.7/98.7 kB\u001b[0m \u001b[31m11.4 MB/s\u001b[0m eta \u001b[36m0:00:00\u001b[0m\n",
            "\u001b[2K     \u001b[90m━━━━━━━━━━━━━━━━━━━━━━━━━━━━━━━━━━━━━━━━\u001b[0m \u001b[32m1.7/1.7 MB\u001b[0m \u001b[31m24.3 MB/s\u001b[0m eta \u001b[36m0:00:00\u001b[0m\n",
            "\u001b[2K     \u001b[90m━━━━━━━━━━━━━━━━━━━━━━━━━━━━━━━━━━━━━━\u001b[0m \u001b[32m112.6/112.6 kB\u001b[0m \u001b[31m11.9 MB/s\u001b[0m eta \u001b[36m0:00:00\u001b[0m\n",
            "\u001b[2K     \u001b[90m━━━━━━━━━━━━━━━━━━━━━━━━━━━━━━━━━━━━━━━━\u001b[0m \u001b[32m69.6/69.6 kB\u001b[0m \u001b[31m6.8 MB/s\u001b[0m eta \u001b[36m0:00:00\u001b[0m\n",
            "\u001b[2K     \u001b[90m━━━━━━━━━━━━━━━━━━━━━━━━━━━━━━━━━━━━━━\u001b[0m \u001b[32m526.7/526.7 kB\u001b[0m \u001b[31m21.1 MB/s\u001b[0m eta \u001b[36m0:00:00\u001b[0m\n",
            "\u001b[2K     \u001b[90m━━━━━━━━━━━━━━━━━━━━━━━━━━━━━━━━━━━━━━━━\u001b[0m \u001b[32m58.3/58.3 kB\u001b[0m \u001b[31m6.2 MB/s\u001b[0m eta \u001b[36m0:00:00\u001b[0m\n",
            "\u001b[?25h  Building wheel for lark (setup.py) ... \u001b[?25l\u001b[?25hdone\n",
            "  Building wheel for rpcq (setup.py) ... \u001b[?25l\u001b[?25hdone\n",
            "\u001b[31mERROR: pip's dependency resolver does not currently take into account all the packages that are installed. This behaviour is the source of the following dependency conflicts.\n",
            "referencing 0.30.2 requires attrs>=22.2.0, but you have attrs 21.4.0 which is incompatible.\u001b[0m\u001b[31m\n",
            "\u001b[0minstalled cirq.\n"
          ]
        }
      ],
      "source": [
        "try:\n",
        "    import cirq\n",
        "except ImportError:\n",
        "    print(\"installing cirq...\")\n",
        "    !pip install --quiet cirq\n",
        "    print(\"installed cirq.\")"
      ]
    },
    {
      "cell_type": "code",
      "source": [
        "import cirq\n",
        "import numpy as np\n",
        "\n",
        "class X1(cirq.Gate):\n",
        "    \"\"\"Ворота, которые добавляют единицу в вычислительную основу кутрита.\n",
        "\n",
        "     Эти ворота действуют на трехуровневые системы. В вычислительной основе\n",
        "     этой системе он осуществляет преобразование U|x〉 = |x + 1 mod 3〉, или\n",
        "     другими словами, U|0〉 = |1〉, U|1〉 = |2〉 и U|2> = |0〉.\n",
        "     \"\"\"\n",
        "\n",
        "    def _qid_shape_(self):\n",
        "        # Реализуя этот метод, эти ворота реализуют\n",
        "         # протокол cirq.qid_shape и вернет кортеж (3,)\n",
        "         # когда cirq.qid_shape действует на экземпляр этого класса.\n",
        "         # Это указывает на то, что вентиль действует на один кутрит.\n",
        "        return (3,)\n",
        "\n",
        "    def _unitary_(self):\n",
        "        # Поскольку ворота действуют на трехуровневые системы, они имеют унитарную\n",
        "         # эффект, представляющий собой унитарную матрицу размером три на три.\n",
        "        return np.array([[0, 1, 0],\n",
        "                         [1, 0, 0],\n",
        "                         [0, 0, 1]])\n",
        "\n",
        "\n",
        "    def _circuit_diagram_info_(self, args):\n",
        "        return '[+1]'\n",
        "\n",
        "# Here we create a qutrit for the gate to act on.\n",
        "q0 = cirq.LineQid(0, dimension=3)\n",
        "\n",
        "# We can now enact the gate on this qutrit.\n",
        "circuit = cirq.Circuit(\n",
        "    X1().on(q0)\n",
        ")\n",
        "\n",
        "# When we print this out we see that the qutrit is labeled by its dimension.\n",
        "print(circuit)"
      ],
      "metadata": {
        "colab": {
          "base_uri": "https://localhost:8080/"
        },
        "id": "oL506BKMsVTE",
        "outputId": "9d769320-dac7-4870-fcde-67f3edf6851d"
      },
      "execution_count": 47,
      "outputs": [
        {
          "output_type": "stream",
          "name": "stdout",
          "text": [
            "0 (d=3): ───[+1]───\n"
          ]
        }
      ]
    },
    {
      "cell_type": "code",
      "source": [
        "class X2(cirq.Gate):\n",
        "    \"\"\"Ворота, которые добавляют единицу в вычислительную основу кутрита.\n",
        "\n",
        "     Эти ворота действуют на трехуровневые системы. В вычислительной основе\n",
        "     этой системе он осуществляет преобразование U|x〉 = |x + 1 mod 3〉, или\n",
        "     другими словами, U|0〉 = |1〉, U|1〉 = |2〉 и U|2> = |0〉.\n",
        "     \"\"\"\n",
        "\n",
        "    def _qid_shape_(self):\n",
        "        # Реализуя этот метод, эти ворота реализуют\n",
        "         # протокол cirq.qid_shape и вернет кортеж (3,)\n",
        "         # когда cirq.qid_shape действует на экземпляр этого класса.\n",
        "         # Это указывает на то, что вентиль действует на один кутрит.\n",
        "        return (3,)\n",
        "\n",
        "\n",
        "    def _unitary_(self):\n",
        "      # Поскольку ворота действуют на трехуровневые системы, они имеют унитарную\n",
        "        # эффект, представляющий собой унитарную матрицу размером три на три.\n",
        "        return np.array([[0, 0, 1],\n",
        "                         [0, 1, 0],\n",
        "                         [1, 0, 0]])\n",
        "\n",
        "    def _circuit_diagram_info_(self, args):\n",
        "        return '[+1]'\n",
        "\n",
        "# Here we create a qutrit for the gate to act on.\n",
        "q0 = cirq.LineQid(0, dimension=3)\n",
        "\n",
        "# We can now enact the gate on this qutrit.\n",
        "circuit = cirq.Circuit(\n",
        "    X2().on(q0)\n",
        ")\n",
        "\n",
        "# When we print this out we see that the qutrit is labeled by its dimension.\n",
        "print(circuit)"
      ],
      "metadata": {
        "colab": {
          "base_uri": "https://localhost:8080/"
        },
        "id": "-izqwIhf9_UX",
        "outputId": "e37b7348-fc61-4a2d-a9ca-9e78736bf256"
      },
      "execution_count": 49,
      "outputs": [
        {
          "output_type": "stream",
          "name": "stdout",
          "text": [
            "0 (d=3): ───[+1]───\n"
          ]
        }
      ]
    },
    {
      "cell_type": "code",
      "source": [
        "class CX(cirq.Gate):\n",
        "    \"\"\"Ворота, которые добавляют единицу в вычислительную основу кутрита.\n",
        "\n",
        "     Эти ворота действуют на трехуровневые системы. В вычислительной основе\n",
        "     этой системе он осуществляет преобразование U|x〉 = |x + 1 mod 3〉, или\n",
        "     другими словами, U|0〉 = |1〉, U|1〉 = |2〉 и U|2> = |0〉.\n",
        "     \"\"\"\n",
        "\n",
        "    def _qid_shape_(self):\n",
        "        # Реализуя этот метод, эти ворота реализуют\n",
        "         # протокол cirq.qid_shape и вернет кортеж (3,)\n",
        "         # когда cirq.qid_shape действует на экземпляр этого класса.\n",
        "         # Это указывает на то, что вентиль действует на один кутрит.\n",
        "        return (3,)\n",
        "\n",
        "\n",
        "    def _unitary_(self):\n",
        "      # Поскольку ворота действуют на трехуровневые системы, они имеют унитарную\n",
        "        # эффект, представляющий собой унитарную матрицу размером три на три.\n",
        "        return np.array([[0, 0, 1],\n",
        "                         [0, 1, 0],\n",
        "                         [1, 0, 0]])\n",
        "\n",
        "    def _circuit_diagram_info_(self, args):\n",
        "        return '[+1]'\n",
        "\n",
        "# Here we create a qutrit for the gate to act on.\n",
        "q0 = cirq.LineQid(0, dimension=3)\n",
        "\n",
        "# We can now enact the gate on this qutrit.\n",
        "circuit = cirq.Circuit(\n",
        "    X2().on(q0)\n",
        ")\n",
        "\n",
        "# When we print this out we see that the qutrit is labeled by its dimension.\n",
        "print(circuit)"
      ],
      "metadata": {
        "id": "JRQrfJSEAVmM"
      },
      "execution_count": null,
      "outputs": []
    },
    {
      "cell_type": "code",
      "source": [
        "gate1 = X1()\n",
        "\n",
        "gate2 = X2()\n",
        "\n",
        "print(\"X1:\")\n",
        "print(cirq.unitary(gate1))\n",
        "print()\n",
        "print(\"X2:\")\n",
        "print(cirq.unitary(gate2))"
      ],
      "metadata": {
        "colab": {
          "base_uri": "https://localhost:8080/"
        },
        "id": "yBIrjAE1sb0H",
        "outputId": "da13e717-e50f-47ea-b456-82ab0bdc9f6a"
      },
      "execution_count": 56,
      "outputs": [
        {
          "output_type": "stream",
          "name": "stdout",
          "text": [
            "X1:\n",
            "[[0 1 0]\n",
            " [1 0 0]\n",
            " [0 0 1]]\n",
            "\n",
            "X2:\n",
            "[[0 0 1]\n",
            " [0 1 0]\n",
            " [1 0 0]]\n"
          ]
        }
      ]
    },
    {
      "cell_type": "code",
      "source": [
        "q0 = cirq.LineQid(0, dimension=3)\n",
        "\n",
        "\n",
        "cirq1 = cirq.Circuit(\n",
        "    gate1(q0)\n",
        ")\n",
        "\n",
        "cirq2 = cirq.Circuit(\n",
        "    gate2(q0)\n",
        ")\n",
        "\n",
        "sim = cirq.Simulator()\n",
        "\n",
        "res1 = sim.simulate(cirq1)\n",
        "res2 = sim.simulate(cirq2)\n",
        "\n",
        "print(res1.final_state_vector)\n",
        "print(res1)\n",
        "print()\n",
        "print(res2.final_state_vector)\n",
        "print(res2)"
      ],
      "metadata": {
        "colab": {
          "base_uri": "https://localhost:8080/"
        },
        "id": "KWjCEKh08vhj",
        "outputId": "1ebd01f1-74a3-4bae-9bf8-392d3607126e"
      },
      "execution_count": 63,
      "outputs": [
        {
          "output_type": "stream",
          "name": "stdout",
          "text": [
            "[0.+0.j 1.+0.j 0.+0.j]\n",
            "measurements: (no measurements)\n",
            "\n",
            "qubits: (cirq.LineQid(0, dimension=3),)\n",
            "output vector: |1⟩\n",
            "\n",
            "phase:\n",
            "output vector: |⟩\n",
            "\n",
            "[0.+0.j 0.+0.j 1.+0.j]\n",
            "measurements: (no measurements)\n",
            "\n",
            "qubits: (cirq.LineQid(0, dimension=3),)\n",
            "output vector: |2⟩\n",
            "\n",
            "phase:\n",
            "output vector: |⟩\n"
          ]
        }
      ]
    }
  ]
}