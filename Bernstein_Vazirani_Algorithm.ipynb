{
  "nbformat": 4,
  "nbformat_minor": 0,
  "metadata": {
    "colab": {
      "provenance": [],
      "authorship_tag": "ABX9TyMayeh71I1OasNne/Qvq6d6",
      "include_colab_link": true
    },
    "kernelspec": {
      "name": "python3",
      "display_name": "Python 3"
    },
    "language_info": {
      "name": "python"
    }
  },
  "cells": [
    {
      "cell_type": "markdown",
      "metadata": {
        "id": "view-in-github",
        "colab_type": "text"
      },
      "source": [
        "<a href=\"https://colab.research.google.com/github/shhesterka04/Quantum-Insights/blob/polina/Bernstein_Vazirani_Algorithm.ipynb\" target=\"_parent\"><img src=\"https://colab.research.google.com/assets/colab-badge.svg\" alt=\"Open In Colab\"/></a>"
      ]
    },
    {
      "cell_type": "markdown",
      "source": [
        "# **Bernstein-Vazirani Algorithm**"
      ],
      "metadata": {
        "id": "1e0wNOmj5W8B"
      }
    },
    {
      "cell_type": "markdown",
      "source": [
        "Устанавливаем библиотеки:"
      ],
      "metadata": {
        "id": "zyVFSkYC5fXE"
      }
    },
    {
      "cell_type": "code",
      "source": [
        "!pip install qiskit --quiet\n",
        "!pip install matplotlib --quiet\n",
        "!pip install pylatexenc --quiet\n",
        "!pip install qiskit.providers.ibmq --quiet"
      ],
      "metadata": {
        "colab": {
          "base_uri": "https://localhost:8080/"
        },
        "id": "mP17bxUgyQct",
        "outputId": "33c63765-1351-4db1-e5cd-4228b077efea"
      },
      "execution_count": 1,
      "outputs": [
        {
          "output_type": "stream",
          "name": "stdout",
          "text": [
            "\u001b[2K     \u001b[90m━━━━━━━━━━━━━━━━━━━━━━━━━━━━━━━━━━━━━━━━\u001b[0m \u001b[32m6.1/6.1 MB\u001b[0m \u001b[31m41.5 MB/s\u001b[0m eta \u001b[36m0:00:00\u001b[0m\n",
            "\u001b[2K     \u001b[90m━━━━━━━━━━━━━━━━━━━━━━━━━━━━━━━━━━━━━━━━\u001b[0m \u001b[32m2.0/2.0 MB\u001b[0m \u001b[31m72.6 MB/s\u001b[0m eta \u001b[36m0:00:00\u001b[0m\n",
            "\u001b[2K     \u001b[90m━━━━━━━━━━━━━━━━━━━━━━━━━━━━━━━━━━━━━━━━\u001b[0m \u001b[32m49.6/49.6 kB\u001b[0m \u001b[31m4.8 MB/s\u001b[0m eta \u001b[36m0:00:00\u001b[0m\n",
            "\u001b[2K     \u001b[90m━━━━━━━━━━━━━━━━━━━━━━━━━━━━━━━━━━━━━━━\u001b[0m \u001b[32m115.3/115.3 kB\u001b[0m \u001b[31m8.4 MB/s\u001b[0m eta \u001b[36m0:00:00\u001b[0m\n",
            "\u001b[2K     \u001b[90m━━━━━━━━━━━━━━━━━━━━━━━━━━━━━━━━━━━━━━━━\u001b[0m \u001b[32m49.6/49.6 kB\u001b[0m \u001b[31m4.3 MB/s\u001b[0m eta \u001b[36m0:00:00\u001b[0m\n",
            "\u001b[2K     \u001b[90m━━━━━━━━━━━━━━━━━━━━━━━━━━━━━━━━━━━━━━━━\u001b[0m \u001b[32m37.5/37.5 MB\u001b[0m \u001b[31m39.6 MB/s\u001b[0m eta \u001b[36m0:00:00\u001b[0m\n",
            "\u001b[2K     \u001b[90m━━━━━━━━━━━━━━━━━━━━━━━━━━━━━━━━━━━━━━\u001b[0m \u001b[32m112.7/112.7 kB\u001b[0m \u001b[31m11.2 MB/s\u001b[0m eta \u001b[36m0:00:00\u001b[0m\n",
            "\u001b[2K     \u001b[90m━━━━━━━━━━━━━━━━━━━━━━━━━━━━━━━━━━━━━━━\u001b[0m \u001b[32m162.6/162.6 kB\u001b[0m \u001b[31m2.7 MB/s\u001b[0m eta \u001b[36m0:00:00\u001b[0m\n",
            "\u001b[?25h  Preparing metadata (setup.py) ... \u001b[?25l\u001b[?25hdone\n",
            "  Building wheel for pylatexenc (setup.py) ... \u001b[?25l\u001b[?25hdone\n",
            "\u001b[31mERROR: Could not find a version that satisfies the requirement qiskit.providers.ibmq (from versions: none)\u001b[0m\u001b[31m\n",
            "\u001b[0m\u001b[31mERROR: No matching distribution found for qiskit.providers.ibmq\u001b[0m\u001b[31m\n",
            "\u001b[0m"
          ]
        }
      ]
    },
    {
      "cell_type": "code",
      "source": [
        "from qiskit.quantum_info import Statevector, Operator\n",
        "import numpy as np\n",
        "import pylatexenc"
      ],
      "metadata": {
        "id": "nE3pJ_pc1KUm"
      },
      "execution_count": 2,
      "outputs": []
    },
    {
      "cell_type": "code",
      "source": [
        "# initialization\n",
        "import matplotlib.pyplot as plt\n",
        "import numpy as np\n",
        "\n",
        "# importing Qiskit\n",
        "from qiskit import IBMQ, Aer\n",
        "from qiskit import QuantumCircuit, ClassicalRegister, QuantumRegister, transpile\n",
        "\n",
        "# import basic plot tools\n",
        "from qiskit.visualization import plot_histogram"
      ],
      "metadata": {
        "id": "nVVezVRgyLVK"
      },
      "execution_count": 3,
      "outputs": []
    },
    {
      "cell_type": "code",
      "source": [
        "from qiskit.providers.ibmq import least_busy"
      ],
      "metadata": {
        "id": "Kog0ijVBz88B"
      },
      "execution_count": null,
      "outputs": []
    },
    {
      "cell_type": "markdown",
      "source": [
        "Сначала мы устанавливаем количество кубитов, используемых в эксперименте, и скрытую битовую строку, которую должен найти алгоритм. Скрытая битовая строка определяет схему квантового оракула."
      ],
      "metadata": {
        "id": "2Pk0UOcFHIM1"
      }
    },
    {
      "cell_type": "code",
      "source": [
        "n = 5 # number of qubits used to represent s\n",
        "s = '01101'   # the hidden binary string"
      ],
      "metadata": {
        "id": "9cS_LMN7yPAG"
      },
      "execution_count": 4,
      "outputs": []
    },
    {
      "cell_type": "code",
      "source": [
        "# Нам нужна схема с n кубитами плюс один вспомогательный кубит\n",
        "# Также необходимо n классических битов для записи вывода\n",
        "bv_circuit = QuantumCircuit(n+1, n)\n",
        "\n",
        "# поместить вспомогательное устройство в состояние |->\n",
        "bv_circuit.h(n)\n",
        "bv_circuit.z(n)\n",
        "\n",
        "# Применить вентили Адамара перед запросом к оракулу\n",
        "for i in range(n):\n",
        "    bv_circuit.h(i)\n",
        "\n",
        "# Применить барьер\n",
        "bv_circuit.barrier()\n",
        "\n",
        "# Применить оракул внутреннего продукта\n",
        "s = s[::-1] # перевернуть s, чтобы соответствовать порядку кубитов qiskit\n",
        "for q in range(n):\n",
        "    if s[q] == '0':\n",
        "        bv_circuit.i(q)\n",
        "    else:\n",
        "        bv_circuit.cx(q, n)\n",
        "\n",
        "# Применить барьер\n",
        "bv_circuit.barrier()\n",
        "\n",
        "#Применить вентили Адамара после запроса к оракулу\n",
        "for i in range(n):\n",
        "    bv_circuit.h(i)\n",
        "\n",
        "# Измерение\n",
        "for i in range(n):\n",
        "    bv_circuit.measure(i, i)\n",
        "\n",
        "bv_circuit.draw()"
      ],
      "metadata": {
        "colab": {
          "base_uri": "https://localhost:8080/",
          "height": 248
        },
        "id": "dYkdeSidzC4g",
        "outputId": "9edc3ffe-6083-4d2b-9f26-d4a261bab8b3"
      },
      "execution_count": 5,
      "outputs": [
        {
          "output_type": "execute_result",
          "data": {
            "text/plain": [
              "     ┌───┐      ░                      ░ ┌───┐┌─┐            \n",
              "q_0: ┤ H ├──────░───■──────────────────░─┤ H ├┤M├────────────\n",
              "     ├───┤      ░   │  ┌───┐           ░ ├───┤└╥┘┌─┐         \n",
              "q_1: ┤ H ├──────░───┼──┤ I ├───────────░─┤ H ├─╫─┤M├─────────\n",
              "     ├───┤      ░   │  └───┘           ░ ├───┤ ║ └╥┘┌─┐      \n",
              "q_2: ┤ H ├──────░───┼─────────■────────░─┤ H ├─╫──╫─┤M├──────\n",
              "     ├───┤      ░   │         │        ░ ├───┤ ║  ║ └╥┘┌─┐   \n",
              "q_3: ┤ H ├──────░───┼─────────┼────■───░─┤ H ├─╫──╫──╫─┤M├───\n",
              "     ├───┤      ░   │  ┌───┐  │    │   ░ ├───┤ ║  ║  ║ └╥┘┌─┐\n",
              "q_4: ┤ H ├──────░───┼──┤ I ├──┼────┼───░─┤ H ├─╫──╫──╫──╫─┤M├\n",
              "     ├───┤┌───┐ ░ ┌─┴─┐└───┘┌─┴─┐┌─┴─┐ ░ └───┘ ║  ║  ║  ║ └╥┘\n",
              "q_5: ┤ H ├┤ Z ├─░─┤ X ├─────┤ X ├┤ X ├─░───────╫──╫──╫──╫──╫─\n",
              "     └───┘└───┘ ░ └───┘     └───┘└───┘ ░       ║  ║  ║  ║  ║ \n",
              "c: 5/══════════════════════════════════════════╩══╩══╩══╩══╩═\n",
              "                                               0  1  2  3  4 "
            ],
            "text/html": [
              "<pre style=\"word-wrap: normal;white-space: pre;background: #fff0;line-height: 1.1;font-family: &quot;Courier New&quot;,Courier,monospace\">     ┌───┐      ░                      ░ ┌───┐┌─┐            \n",
              "q_0: ┤ H ├──────░───■──────────────────░─┤ H ├┤M├────────────\n",
              "     ├───┤      ░   │  ┌───┐           ░ ├───┤└╥┘┌─┐         \n",
              "q_1: ┤ H ├──────░───┼──┤ I ├───────────░─┤ H ├─╫─┤M├─────────\n",
              "     ├───┤      ░   │  └───┘           ░ ├───┤ ║ └╥┘┌─┐      \n",
              "q_2: ┤ H ├──────░───┼─────────■────────░─┤ H ├─╫──╫─┤M├──────\n",
              "     ├───┤      ░   │         │        ░ ├───┤ ║  ║ └╥┘┌─┐   \n",
              "q_3: ┤ H ├──────░───┼─────────┼────■───░─┤ H ├─╫──╫──╫─┤M├───\n",
              "     ├───┤      ░   │  ┌───┐  │    │   ░ ├───┤ ║  ║  ║ └╥┘┌─┐\n",
              "q_4: ┤ H ├──────░───┼──┤ I ├──┼────┼───░─┤ H ├─╫──╫──╫──╫─┤M├\n",
              "     ├───┤┌───┐ ░ ┌─┴─┐└───┘┌─┴─┐┌─┴─┐ ░ └───┘ ║  ║  ║  ║ └╥┘\n",
              "q_5: ┤ H ├┤ Z ├─░─┤ X ├─────┤ X ├┤ X ├─░───────╫──╫──╫──╫──╫─\n",
              "     └───┘└───┘ ░ └───┘     └───┘└───┘ ░       ║  ║  ║  ║  ║ \n",
              "c: 5/══════════════════════════════════════════╩══╩══╩══╩══╩═\n",
              "                                               0  1  2  3  4 </pre>"
            ]
          },
          "metadata": {},
          "execution_count": 5
        }
      ]
    },
    {
      "cell_type": "code",
      "source": [
        "!pip install qiskit-aer --quiet"
      ],
      "metadata": {
        "colab": {
          "base_uri": "https://localhost:8080/"
        },
        "id": "qwUEctTD28uM",
        "outputId": "4e887988-0cc8-4633-bafe-937ffc89d2a7"
      },
      "execution_count": 6,
      "outputs": [
        {
          "output_type": "stream",
          "name": "stdout",
          "text": [
            "\u001b[2K     \u001b[90m━━━━━━━━━━━━━━━━━━━━━━━━━━━━━━━━━━━━━━━━\u001b[0m \u001b[32m12.8/12.8 MB\u001b[0m \u001b[31m24.9 MB/s\u001b[0m eta \u001b[36m0:00:00\u001b[0m\n",
            "\u001b[?25h"
          ]
        }
      ]
    },
    {
      "cell_type": "code",
      "source": [
        "# use local simulator\n",
        "aer_sim = Aer.get_backend('aer_simulator')\n",
        "shots = 1024\n",
        "results = aer_sim.run(bv_circuit).result()\n",
        "answer = results.get_counts()\n",
        "\n",
        "plot_histogram(answer)"
      ],
      "metadata": {
        "colab": {
          "base_uri": "https://localhost:8080/",
          "height": 496
        },
        "id": "8LhwxPwc0Fms",
        "outputId": "78fae8ac-6992-41e1-9504-908c30a99738"
      },
      "execution_count": 7,
      "outputs": [
        {
          "output_type": "execute_result",
          "data": {
            "text/plain": [
              "<Figure size 700x500 with 1 Axes>"
            ],
            "image/png": "[encoded data removed]"
          },
          "metadata": {},
          "execution_count": 7
        }
      ]
    }
  ]
}