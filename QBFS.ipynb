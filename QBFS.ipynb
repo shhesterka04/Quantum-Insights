{
  "nbformat": 4,
  "nbformat_minor": 0,
  "metadata": {
    "colab": {
      "provenance": []
    },
    "kernelspec": {
      "name": "python3",
      "display_name": "Python 3"
    },
    "language_info": {
      "name": "python"
    }
  },
  "cells": [
    {
      "cell_type": "code",
      "execution_count": 2,
      "metadata": {
        "colab": {
          "base_uri": "https://localhost:8080/"
        },
        "id": "y_G2xi15QS3n",
        "outputId": "d9c38eb7-b173-44c6-bd92-5a47a9e8fe9d"
      },
      "outputs": [
        {
          "output_type": "stream",
          "name": "stdout",
          "text": [
            "Looking in indexes: https://pypi.org/simple, https://us-python.pkg.dev/colab-wheels/public/simple/\n",
            "Requirement already satisfied: qiskit in /usr/local/lib/python3.10/dist-packages (0.42.1)\n",
            "Requirement already satisfied: qiskit-ibmq-provider==0.20.2 in /usr/local/lib/python3.10/dist-packages (from qiskit) (0.20.2)\n",
            "Requirement already satisfied: qiskit-aer==0.12.0 in /usr/local/lib/python3.10/dist-packages (from qiskit) (0.12.0)\n",
            "Requirement already satisfied: qiskit-terra==0.23.3 in /usr/local/lib/python3.10/dist-packages (from qiskit) (0.23.3)\n",
            "Requirement already satisfied: numpy>=1.16.3 in /usr/local/lib/python3.10/dist-packages (from qiskit-aer==0.12.0->qiskit) (1.22.4)\n",
            "Requirement already satisfied: scipy>=1.0 in /usr/local/lib/python3.10/dist-packages (from qiskit-aer==0.12.0->qiskit) (1.10.1)\n",
            "Requirement already satisfied: websocket-client>=1.5.1 in /usr/local/lib/python3.10/dist-packages (from qiskit-ibmq-provider==0.20.2->qiskit) (1.5.1)\n",
            "Requirement already satisfied: urllib3>=1.21.1 in /usr/local/lib/python3.10/dist-packages (from qiskit-ibmq-provider==0.20.2->qiskit) (1.26.15)\n",
            "Requirement already satisfied: websockets>=10.0 in /usr/local/lib/python3.10/dist-packages (from qiskit-ibmq-provider==0.20.2->qiskit) (11.0.2)\n",
            "Requirement already satisfied: requests>=2.19 in /usr/local/lib/python3.10/dist-packages (from qiskit-ibmq-provider==0.20.2->qiskit) (2.27.1)\n",
            "Requirement already satisfied: python-dateutil>=2.8.0 in /usr/local/lib/python3.10/dist-packages (from qiskit-ibmq-provider==0.20.2->qiskit) (2.8.2)\n",
            "Requirement already satisfied: requests-ntlm<=1.1.0 in /usr/local/lib/python3.10/dist-packages (from qiskit-ibmq-provider==0.20.2->qiskit) (1.1.0)\n",
            "Requirement already satisfied: stevedore>=3.0.0 in /usr/local/lib/python3.10/dist-packages (from qiskit-terra==0.23.3->qiskit) (5.0.0)\n",
            "Requirement already satisfied: rustworkx>=0.12.0 in /usr/local/lib/python3.10/dist-packages (from qiskit-terra==0.23.3->qiskit) (0.12.1)\n",
            "Requirement already satisfied: sympy>=1.3 in /usr/local/lib/python3.10/dist-packages (from qiskit-terra==0.23.3->qiskit) (1.11.1)\n",
            "Requirement already satisfied: psutil>=5 in /usr/local/lib/python3.10/dist-packages (from qiskit-terra==0.23.3->qiskit) (5.9.5)\n",
            "Requirement already satisfied: ply>=3.10 in /usr/local/lib/python3.10/dist-packages (from qiskit-terra==0.23.3->qiskit) (3.11)\n",
            "Requirement already satisfied: symengine>=0.9 in /usr/local/lib/python3.10/dist-packages (from qiskit-terra==0.23.3->qiskit) (0.10.0)\n",
            "Requirement already satisfied: dill>=0.3 in /usr/local/lib/python3.10/dist-packages (from qiskit-terra==0.23.3->qiskit) (0.3.6)\n",
            "Requirement already satisfied: six>=1.5 in /usr/local/lib/python3.10/dist-packages (from python-dateutil>=2.8.0->qiskit-ibmq-provider==0.20.2->qiskit) (1.16.0)\n",
            "Requirement already satisfied: certifi>=2017.4.17 in /usr/local/lib/python3.10/dist-packages (from requests>=2.19->qiskit-ibmq-provider==0.20.2->qiskit) (2022.12.7)\n",
            "Requirement already satisfied: idna<4,>=2.5 in /usr/local/lib/python3.10/dist-packages (from requests>=2.19->qiskit-ibmq-provider==0.20.2->qiskit) (3.4)\n",
            "Requirement already satisfied: charset-normalizer~=2.0.0 in /usr/local/lib/python3.10/dist-packages (from requests>=2.19->qiskit-ibmq-provider==0.20.2->qiskit) (2.0.12)\n",
            "Requirement already satisfied: cryptography>=1.3 in /usr/local/lib/python3.10/dist-packages (from requests-ntlm<=1.1.0->qiskit-ibmq-provider==0.20.2->qiskit) (40.0.2)\n",
            "Requirement already satisfied: ntlm-auth>=1.0.2 in /usr/local/lib/python3.10/dist-packages (from requests-ntlm<=1.1.0->qiskit-ibmq-provider==0.20.2->qiskit) (1.5.0)\n",
            "Requirement already satisfied: pbr!=2.1.0,>=2.0.0 in /usr/local/lib/python3.10/dist-packages (from stevedore>=3.0.0->qiskit-terra==0.23.3->qiskit) (5.11.1)\n",
            "Requirement already satisfied: mpmath>=0.19 in /usr/local/lib/python3.10/dist-packages (from sympy>=1.3->qiskit-terra==0.23.3->qiskit) (1.3.0)\n",
            "Requirement already satisfied: cffi>=1.12 in /usr/local/lib/python3.10/dist-packages (from cryptography>=1.3->requests-ntlm<=1.1.0->qiskit-ibmq-provider==0.20.2->qiskit) (1.15.1)\n",
            "Requirement already satisfied: pycparser in /usr/local/lib/python3.10/dist-packages (from cffi>=1.12->cryptography>=1.3->requests-ntlm<=1.1.0->qiskit-ibmq-provider==0.20.2->qiskit) (2.21)\n",
            "Looking in indexes: https://pypi.org/simple, https://us-python.pkg.dev/colab-wheels/public/simple/\n",
            "Requirement already satisfied: pylatexenc in /usr/local/lib/python3.10/dist-packages (2.10)\n",
            "Looking in indexes: https://pypi.org/simple, https://us-python.pkg.dev/colab-wheels/public/simple/\n",
            "Requirement already satisfied: matplotlib in /usr/local/lib/python3.10/dist-packages (3.7.1)\n",
            "Requirement already satisfied: pillow>=6.2.0 in /usr/local/lib/python3.10/dist-packages (from matplotlib) (8.4.0)\n",
            "Requirement already satisfied: contourpy>=1.0.1 in /usr/local/lib/python3.10/dist-packages (from matplotlib) (1.0.7)\n",
            "Requirement already satisfied: pyparsing>=2.3.1 in /usr/local/lib/python3.10/dist-packages (from matplotlib) (3.0.9)\n",
            "Requirement already satisfied: python-dateutil>=2.7 in /usr/local/lib/python3.10/dist-packages (from matplotlib) (2.8.2)\n",
            "Requirement already satisfied: numpy>=1.20 in /usr/local/lib/python3.10/dist-packages (from matplotlib) (1.22.4)\n",
            "Requirement already satisfied: packaging>=20.0 in /usr/local/lib/python3.10/dist-packages (from matplotlib) (23.1)\n",
            "Requirement already satisfied: fonttools>=4.22.0 in /usr/local/lib/python3.10/dist-packages (from matplotlib) (4.39.3)\n",
            "Requirement already satisfied: cycler>=0.10 in /usr/local/lib/python3.10/dist-packages (from matplotlib) (0.11.0)\n",
            "Requirement already satisfied: kiwisolver>=1.0.1 in /usr/local/lib/python3.10/dist-packages (from matplotlib) (1.4.4)\n",
            "Requirement already satisfied: six>=1.5 in /usr/local/lib/python3.10/dist-packages (from python-dateutil>=2.7->matplotlib) (1.16.0)\n"
          ]
        }
      ],
      "source": [
        "!pip install qiskit\n",
        "!pip install pylatexenc\n",
        "!pip install matplotlib\n",
        "\n"
      ]
    },
    {
      "cell_type": "markdown",
      "source": [
        "### **Quantum BFS**"
      ],
      "metadata": {
        "id": "_kwdzsu7RC0m"
      }
    },
    {
      "cell_type": "markdown",
      "source": [
        "Конечно! Вот более математическое описание квантового алгоритма, основанного на поиске в ширину (BFS):\n",
        "\n",
        "Инициализация квантового состояния: Квантовое состояние системы инициализируется суперпозицией всех возможных узлов в графе с использованием следующего уравнения:\n",
        "|ψ⟩ = 1/√N Σ|x⟩\n",
        "\n",
        "где |x⟩ — состояние узла, N — общее количество узлов в графе, а сумма берется по всем возможным узлам.\n",
        "\n",
        "Построение оракула: оракул строится с использованием квантовых вентилей, которые выполняют операцию запроса на заданном узле в графе. Операцию запроса можно представить математически с помощью следующего уравнения:\n",
        "U|x⟩ = (-1)^f(x)|x⟩\n",
        "\n",
        "где U — ворота оракула, f(x) — логическая функция, возвращающая 1, если x — целевой узел, и 0 в противном случае, а |x⟩ — состояние узла.\n",
        "\n",
        "Амплитудное усиление: Амплитудное усиление используется для увеличения вероятности нахождения целевого узла. Это включает в себя многократное применение последовательности из двух вентилей, отражения средней амплитуды и вентиля оракула. Отражение средней амплитуды может быть представлено математически с помощью следующего уравнения:\n",
        "S = 2|ψ⟩⟨ψ| - я\n",
        "\n",
        "где I — единичная матрица, а |ψ⟩ — текущее квантовое состояние.\n",
        "\n",
        "Измерение: конечное квантовое состояние измеряется для получения решения, которое должно быть кратчайшим путем между начальным узлом и целевым узлом.\n",
        "Стоит отметить, что это упрощенное описание квантового алгоритма BFS, а реальные реализации могут быть намного сложнее. Кроме того, текущее квантовое оборудование имеет ограничения с точки зрения количества кубитов и операций с вентилями, поэтому может оказаться невозможным реализовать этот алгоритм на текущем оборудовании для больших графов. Однако продолжающиеся исследования в области квантовых вычислений изучают способы преодоления этих ограничений и превращения квантовой BFS в реальность.\n"
      ],
      "metadata": {
        "id": "dmrwL6ZDQ4rk"
      }
    },
    {
      "cell_type": "code",
      "source": [
        "from qiskit import QuantumCircuit, QuantumRegister, ClassicalRegister, execute, Aer\n",
        "from qiskit import transpile\n",
        "from qiskit.visualization import plot_histogram\n",
        "from qiskit_aer import AerSimulator\n",
        "\n",
        "from qiskit import QuantumCircuit, Aer, execute\n",
        "import numpy as np\n",
        "\n",
        "# Define the graph as an adjacency matrix\n",
        "adj_matrix = np.array([[0, 1, 0, 1, 0],\n",
        "                       [1, 0, 1, 0, 0],\n",
        "                       [0, 1, 0, 0, 1],\n",
        "                       [1, 0, 0, 0, 1],\n",
        "                       [0, 0, 1, 1, 0]])\n",
        "\n",
        "# Define the starting node and target node\n",
        "start_node = 0\n",
        "target_node = 4\n",
        "\n",
        "# Define the number of qubits and the quantum circuit\n",
        "num_qubits = np.int(np.ceil(np.log2(len(adj_matrix))))\n",
        "qc = QuantumCircuit(num_qubits, num_qubits)\n",
        "\n",
        "# Apply the Hadamard gate to all qubits to create a uniform superposition\n",
        "qc.h(range(num_qubits))\n",
        "\n",
        "# Perform the oracle query operation for each node\n",
        "for node in range(len(adj_matrix)):\n",
        "    if node == target_node:\n",
        "        # Mark the target node\n",
        "        qc.z(num_qubits - 1)\n",
        "    elif adj_matrix[start_node, node] == 1:\n",
        "        # Mark nodes adjacent to the starting node\n",
        "        qc.cz(start_node, num_qubits - 1)\n",
        "\n",
        "# Perform amplitude amplification by repeating the reflection and oracle operations\n",
        "num_iterations = 2 * np.int(np.sqrt(len(adj_matrix)))\n",
        "for i in range(num_iterations):\n",
        "    # Apply the reflection about the average amplitude\n",
        "    qc.h(range(num_qubits))\n",
        "    qc.x(range(num_qubits))\n",
        "    qc.cz(0, num_qubits - 1)\n",
        "    qc.x(range(num_qubits))\n",
        "    qc.h(range(num_qubits))\n",
        "    # Apply the oracle operation\n",
        "    for node in range(len(adj_matrix)):\n",
        "        if node == target_node:\n",
        "            # Mark the target node\n",
        "            qc.z(num_qubits - 1)\n",
        "        elif adj_matrix[start_node, node] == 1:\n",
        "            # Mark nodes adjacent to the starting node\n",
        "            qc.cz(start_node, num_qubits - 1)\n",
        "\n",
        "# Measure the final state and print the result\n",
        "qc.measure(range(num_qubits), range(num_qubits))\n",
        "backend = Aer.get_backend('qasm_simulator')\n",
        "job = execute(qc, backend, shots=1024)\n",
        "result = job.result().get_counts()\n",
        "print(result)\n",
        "\n",
        "\n"
      ],
      "metadata": {
        "colab": {
          "base_uri": "https://localhost:8080/"
        },
        "id": "AkWo1CAeR2Wj",
        "outputId": "c7d7ef18-df07-4ec8-e87d-2ab3e22a92b5"
      },
      "execution_count": 7,
      "outputs": [
        {
          "output_type": "stream",
          "name": "stdout",
          "text": [
            "{'100': 125, '001': 110, '101': 128, '110': 147, '111': 127, '011': 122, '010': 137, '000': 128}\n"
          ]
        },
        {
          "output_type": "stream",
          "name": "stderr",
          "text": [
            "<ipython-input-7-5e98afcbf2a0>:21: DeprecationWarning: `np.int` is a deprecated alias for the builtin `int`. To silence this warning, use `int` by itself. Doing this will not modify any behavior and is safe. When replacing `np.int`, you may wish to use e.g. `np.int64` or `np.int32` to specify the precision. If you wish to review your current use, check the release note link for additional information.\n",
            "Deprecated in NumPy 1.20; for more details and guidance: https://numpy.org/devdocs/release/1.20.0-notes.html#deprecations\n",
            "  num_qubits = np.int(np.ceil(np.log2(len(adj_matrix))))\n",
            "<ipython-input-7-5e98afcbf2a0>:37: DeprecationWarning: `np.int` is a deprecated alias for the builtin `int`. To silence this warning, use `int` by itself. Doing this will not modify any behavior and is safe. When replacing `np.int`, you may wish to use e.g. `np.int64` or `np.int32` to specify the precision. If you wish to review your current use, check the release note link for additional information.\n",
            "Deprecated in NumPy 1.20; for more details and guidance: https://numpy.org/devdocs/release/1.20.0-notes.html#deprecations\n",
            "  num_iterations = 2 * np.int(np.sqrt(len(adj_matrix)))\n"
          ]
        }
      ]
    },
    {
      "cell_type": "markdown",
      "source": [
        "\n",
        "In this implementation, we used the technique of amplitude encoding to encode the nodes of the graph into quantum states.\n",
        "\n",
        "Amplitude encoding maps each node of the graph to a unique basis state of the quantum register. Specifically, we used a binary encoding where each node is represented by a unique bit string. For example, if we have 4 nodes, we can represent each node with a 2-qubit quantum register as follows:\n",
        "\n",
        "Node 0: '00'\n",
        "Node 1: '01'\n",
        "Node 2: '10'\n",
        "Node 3: '11'\n",
        "To encode each node into the quantum register, we first initialize the register to the all-zeros state (i.e., the state with maximum probability amplitude in the 0 basis state and minimum amplitude in all other basis states). We then apply a series of unitary gates to set the probability amplitudes of the basis states corresponding to the binary representation of the node to 1.\n",
        "\n",
        "For example, to encode node 2 into a 2-qubit quantum register using amplitude encoding, we would apply the following sequence of gates:\n",
        "\n",
        "Apply the X gate to the second qubit to set it to the '1' state: qc.x(1)\n",
        "Apply the conditional phase flip gate (CPHASE) with angle pi/2 to the second qubit controlled by the first qubit to set the amplitude of the basis state '10' to 1: qc.cp(pi/2, 0, 1)\n",
        "Apply the Hadamard gate to both qubits to spread the amplitude evenly across all basis states: qc.h([0,1])\n",
        "At this point, the quantum register is in a superposition of all basis states with equal amplitude, except for the basis state '10' which has a higher amplitude due to the previous phase flip. This encodes the node '2' into the quantum register.\n",
        "\n",
        "We repeat this process for each node in the graph, creating a superposition of basis states that encode all possible starting nodes. We then use this superposition as input to the quantum search algorithm to find the solution to the graph problem."
      ],
      "metadata": {
        "id": "fQme2-JrWV0Y"
      }
    },
    {
      "cell_type": "markdown",
      "source": [
        "In the context of the quantum search algorithm we implemented, the result '101' corresponds to the most likely path from the starting node to the target node in the graph.\n",
        "\n",
        "To interpret this result as the shortest path, we need to first decode the bit string into a path through the graph. In this implementation, we encoded each node of the graph as a unique bit string, with each bit representing whether the corresponding node is included or excluded from the path.\n",
        "\n",
        "To decode the result '101', we can interpret it as follows:\n",
        "\n",
        "The first bit '1' corresponds to node 1, which is included in the path.\n",
        "The second bit '0' corresponds to node 2, which is excluded from the path.\n",
        "The third bit '1' corresponds to node 3, which is included in the path.\n",
        "So the path corresponding to the result '101' is the path from node 0 to node 1 to node 3, which has a length of 2 edges.\n",
        "\n",
        "It's worth noting that the quantum search algorithm we implemented only finds one solution to the graph problem at a time. In practice, we may need to run the algorithm multiple times and aggregate the results to find the shortest path with high probability."
      ],
      "metadata": {
        "id": "LYf0lJ5EWjfR"
      }
    }
  ]
}