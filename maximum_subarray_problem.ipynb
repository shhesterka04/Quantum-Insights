{
  "nbformat": 4,
  "nbformat_minor": 0,
  "metadata": {
    "colab": {
      "provenance": [],
      "authorship_tag": "ABX9TyO6Vts3nPWcGq3w0Rl8d8mG",
      "include_colab_link": true
    },
    "kernelspec": {
      "name": "python3",
      "display_name": "Python 3"
    },
    "language_info": {
      "name": "python"
    }
  },
  "cells": [
    {
      "cell_type": "markdown",
      "metadata": {
        "id": "view-in-github",
        "colab_type": "text"
      },
      "source": [
        "<a href=\"https://colab.research.google.com/github/shhesterka04/Quantum-Insights/blob/polina/maximum_subarray_problem.ipynb\" target=\"_parent\"><img src=\"https://colab.research.google.com/assets/colab-badge.svg\" alt=\"Open In Colab\"/></a>"
      ]
    },
    {
      "cell_type": "markdown",
      "source": [
        "# **The maximum subarray problem**"
      ],
      "metadata": {
        "id": "--lQnRv1maCB"
      }
    },
    {
      "cell_type": "markdown",
      "source": [
        "# Немного о самой проблеме\n",
        "Задан массив чисел, цель состоит в том, чтобы найти непрерывный подмассив с наибольшей суммой. Эта проблема имеет приложения в обработке сигналов и финансовом анализе."
      ],
      "metadata": {
        "id": "SVhrP79Amr5m"
      }
    },
    {
      "cell_type": "markdown",
      "source": [
        "# Что гпт посоветует для решения проблемы?  \n",
        "\n",
        "Алгоритм квантовой приближенной оптимизации (QAOA) может быть наиболее подходящим для решения этой проблемы.\n",
        "\n",
        "Было показано, что QAOA эффективен при решении различных задач оптимизации и известен своей способностью обеспечивать решения, близкие к оптимальным, для комбинаторных задач. Кроме того, было продемонстрировано, что QAOA имеет лучшую производительность, чем два других алгоритма, с точки зрения времени выполнения и масштабируемости, которые являются важными факторами для решения проблемы максимального подмассива.\n",
        "\n"
      ],
      "metadata": {
        "id": "nTFtCP2fmx89"
      }
    },
    {
      "cell_type": "markdown",
      "source": [
        "# Алгоритм QAOA для решения задачи о максимальном подмассиве с использованием формы Изинга гамильтониана :\n",
        "\n",
        "1. **Определите количество кубитов, необходимых для представления задачи.**\n",
        "\n",
        "2. **Закодируйте задачу бинарной оптимизации как гамильтониан Изинга.**\n",
        "\n",
        " Модель Изинга — это математическая модель ферромагнетизма в статистической механике, описывающая взаимодействия между спинами на решетке. Гамильтониан для модели Изинга определяется выражением:\n",
        "\n",
        "$H_{Ising} = - \\sum_{i,j} J_{i,j} \\sigma_i \\sigma_j - \\sum_{i} h_i \\sigma_i$\n",
        "\n",
        "где $\\sigma_i$ — спин $i$-й частицы, $J_{i,j}$ — сила взаимодействия между частицами $i$ и $j$, $h_i$ — внешнее поле, действующее на $i$-я частица.\n",
        "\n",
        "В случае задачи о максимальном подмассиве мы можем сопоставить бинарные переменные $x_i$ со спинами, установив $x_i = \\frac{1}{2}(1 - \\sigma_i)$, где $\\sigma_i \\in \\{- 1,1\\}$. Тогда мы можем выразить гамильтониан задачи о максимальном подмассиве в форме Изинга как:\n",
        "\n",
        "$H_{max-subarray} = - \\sum_{i,j} w_{i,j} \\frac{1}{4} (1 - \\sigma_i) (1 - \\sigma_j) - \\frac{1}{2 } \\sum_{i} w_{i,i} \\sigma_i$\n",
        "\n",
        "где $w_{i,j}$ — вес ребра между вершинами $i$ и $j$, а $\\sigma_i$ — спин, соответствующий $i$-й переменной.\n",
        "\n",
        "3. **Создайте квантовую схему, подготавливающую начальное состояние для алгоритма QAOA. Это может быть суперпозиция всех возможных состояний кубитов.**\n",
        "\n",
        "4. **Определить QAOA-оператор $U(\\gamma, \\beta)$, состоящий из двух частей:** гамильтониана стоимости и гамильтониана смесителя. Гамильтониан стоимости — это гамильтониан Изинга для задачи максимального подмассива, а гамильтониан смесителя — это простой оператор, который используется для изменения состояния кубитов. Общий гамильтониан — это оператор $X$, примененный к каждому кубиту. Оператор QAOA определяется как:\n",
        "\n",
        "$U(\\gamma, \\beta) = e^{-i\\beta P}e^{-i\\gamma H_{max-subarray}}$\n",
        "\n",
        "где $\\gamma = (\\gamma_1, \\gamma_2, \\dots, \\gamma_p)$ и $\\beta = (\\beta_1, \\beta_2, \\dots, \\beta_p)$ — оптимизируемые параметры, $H_{max- subarray}$ — гамильтониан Изинга для задачи о максимальном подмассиве, а $P$ — смешивающий гамильтониан, который определяется как:\n",
        "\n",
        "$P = \\sum\\limits_{i=1}^{n} X_i$\n",
        "\n",
        "где $X_i$ — оператор Паули-Х, действующий на кубит $i$.\n",
        "\n",
        "5. **Применить оператор QAOA к начальному состоянию, используя квантовую схему, созданную на шаге 3.** Количество применений оператора определяется глубиной алгоритма QAOA, которая обозначается $p$.\n",
        "\n",
        "6. **Измерьте кубиты и запишите результаты измерения.**\n",
        "\n",
        "7. **С помощью классического оптимизатора найти оптимальные значения параметров $\\gamma$ и $\\beta$, минимизирующие целевую функцию.** Целевой функцией является среднее значение стоимостного гамильтониана $H_{max-subarray}$ относительно конечного состояния, полученного в результате применения оператора QAOA.\n",
        "\n",
        "8. **Используйте оптимальные параметры для расчета максимального подмассива.**"
      ],
      "metadata": {
        "id": "J4Dm_NXUnKHs"
      }
    },
    {
      "cell_type": "code",
      "source": [
        "import numpy as np\n",
        "from qiskit import Aer, execute\n",
        "from qiskit.aqua import aqua_globals\n",
        "from qiskit.aqua.operators import PauliSumOp\n",
        "from qiskit.aqua.components.optimizers import COBYLA\n",
        "from qiskit.aqua.components.variational_forms import RYRZ\n",
        "from qiskit.aqua.algorithms import QAOA\n",
        "\n",
        "\n",
        "def find_maximum_subarray(array):\n",
        "    # Define the Ising Hamiltonian for the maximum subarray problem\n",
        "    n = len(array)\n",
        "    pauli_list = []\n",
        "    for i in range(n):\n",
        "        for j in range(i, n):\n",
        "            if i == j:\n",
        "                wp = -0.5 * array[i]\n",
        "            else:\n",
        "                wp = -array[i] * array[j]\n",
        "            pauli_list.append([f'Z{i}Z{j}', wp])\n",
        "    operator = PauliSumOp.from_list(pauli_list)\n",
        "    \n",
        "    # Define the initial state for the QAOA algorithm\n",
        "    init_state = np.ones(2 ** n) / np.sqrt(2 ** n)\n",
        "    \n",
        "    # Define the variational form for the QAOA algorithm\n",
        "    p = 1  # depth of the QAOA algorithm\n",
        "    variational_form = RYRZ(n, depth=p)\n",
        "    \n",
        "    # Define the QAOA algorithm\n",
        "    optimizer = COBYLA()\n",
        "    algorithm = QAOA(operator=operator, optimizer=optimizer, p=p, initial_point=[0]*2*p,\n",
        "                     mixer=variational_form, initial_state=init_state)\n",
        "    \n",
        "    # Execute the QAOA algorithm and get the optimal parameters\n",
        "    backend = Aer.get_backend('qasm_simulator')\n",
        "    shots = 1000\n",
        "    aqua_globals.random_seed = 10598\n",
        "    result = algorithm.run(backend, shots=shots)\n",
        "    optimal_params = result.optimal_params\n",
        "    \n",
        "    # Calculate the maximum subarray using the optimal parameters\n",
        "    statevector = algorithm.construct_circuit(optimal_params).statevector()\n",
        "    max_subarray = np.argmax(np.abs(statevector))\n",
        "    \n",
        "    return max_subarray\n"
      ],
      "metadata": {
        "id": "cP4gsErconLz"
      },
      "execution_count": null,
      "outputs": []
    }
  ]
}