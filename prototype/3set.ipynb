{
 "cells": [
  {
   "cell_type": "markdown",
   "metadata": {},
   "source": [
    "Определите функцию is_satisfiable(присваивание, предложения), которая принимает логическое присваивание (список истинностных значений) и набор предложений (список списков, где каждый внутренний список содержит 3 целых числа, представляющих литералы). Эта функция возвращает True, если присваивание удовлетворяет всем предложениям, и False в противном случае.\n",
    "\n",
    "Определите функцию oracle(предложения, num_variables), которая принимает набор предложений и количество логических переменных и возвращает квантовый оракул, который распознает удовлетворяющие присваивания.\n",
    "\n",
    "Определите основную функцию 3-SAT-решателя grover_3sat_solver(предложения, num_variables), которая принимает набор предложений и количество логических переменных.\n",
    "\n",
    "a. Создайте квантовый оракул, используя функцию oracle(предложения, num_variables).\n",
    "\n",
    "б. Запустите алгоритм Гровера, используя квантовый оракул.\n",
    "\n",
    "c. Если найдено удовлетворяющее заданию, верните его. В противном случае верните None."
   ]
  },
  {
   "cell_type": "code",
   "execution_count": null,
   "metadata": {},
   "outputs": [],
   "source": [
    "import itertools\n",
    "import numpy as np\n",
    "from qiskit import QuantumCircuit, QuantumRegister, ClassicalRegister, Aer, transpile, assemble\n",
    "from qiskit.quantum_info import Statevector\n",
    "from qiskit.aqua.algorithms import Grover\n",
    "from qiskit.aqua.components.oracles import CustomCircuitOracle\n",
    "\n",
    "def is_satisfiable(assignment, clauses):\n",
    "    for clause in clauses:\n",
    "        if not any(assignment[abs(lit) - 1] if lit > 0 else not assignment[abs(lit) - 1] for lit in clause):\n",
    "            return False\n",
    "    return True\n",
    "\n",
    "def oracle(clauses, num_variables):\n",
    "    def oracle_function(assignment):\n",
    "        return is_satisfiable(assignment, clauses)\n",
    "\n",
    "    return oracle_function\n",
    "\n",
    "def grover_3sat_solver(clauses, num_variables):\n",
    "    oracle_function = oracle(clauses, num_variables)\n",
    "    oracle_instance = CustomCircuitOracle(variable_register=QuantumRegister(num_variables, name='v'),\n",
    "                                         output_register=ClassicalRegister(1, name='o'),\n",
    "                                         circuit=oracle_function,\n",
    "                                         evaluate_classically_callback=oracle_function)\n",
    "\n",
    "    grover_instance = Grover(oracle=oracle_instance)\n",
    "\n",
    "    result = grover_instance.run(quantum_instance=Aer.get_backend('statevector_simulator'))\n",
    "\n",
    "    if 'result' in result:\n",
    "        return result['result']\n",
    "    else:\n",
    "        return None\n",
    "\n",
    "# Example usage:\n",
    "clauses = [\n",
    "    [1, 2, -3],\n",
    "    [-1, -2, 3],\n",
    "    [-2, 3, 4],\n",
    "    [-3, -4, 1]\n",
    "]\n",
    "\n",
    "num_variables = 4\n",
    "\n",
    "satisfying_assignment = grover_3sat_solver(clauses, num_variables)\n",
    "print(\"Satisfying assignment:\", satisfying_assignment)\n"
   ]
  }
 ],
 "metadata": {
  "language_info": {
   "name": "python"
  },
  "orig_nbformat": 4
 },
 "nbformat": 4,
 "nbformat_minor": 2
}
