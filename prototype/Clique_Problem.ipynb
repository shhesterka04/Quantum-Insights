{
 "cells": [
  {
   "cell_type": "markdown",
   "metadata": {},
   "source": [
    "Преобразуйте задачу о клике в задачу комбинаторной оптимизации. Например, вы можете использовать формулировку целочисленного программирования или формулировку квадратичной неограниченной двоичной оптимизации (QUBO).\n",
    "\n",
    "Постройте параметризованную квантовую схему, используя AOA, которая состоит из чередующихся слоев гамильтониана конкретной задачи и гамильтониана смесителя.\n",
    "\n",
    "Найдите оптимальные параметры для квантовой схемы, используя классические методы оптимизации, такие как градиентный спуск, чтобы минимизировать математическое ожидание гамильтониана задачи.\n",
    "\n",
    "Запустите оптимизированную квантовую схему на квантовом компьютере или симуляторе, чтобы получить приближенное решение проблемы клики."
   ]
  },
  {
   "cell_type": "code",
   "execution_count": null,
   "metadata": {},
   "outputs": [],
   "source": [
    "import networkx as nx\n",
    "from qiskit_optimization import QuadraticProgram\n",
    "from qiskit_optimization.algorithms import MinimumEigenOptimizer\n",
    "from qiskit import Aer\n",
    "from qiskit.algorithms import QAOA\n",
    "from qiskit.utils import QuantumInstance\n",
    "from docplex.mp.model import Model\n",
    "\n",
    "def clique_qubo(graph, k):\n",
    "    model = Model(name='clique')\n",
    "    n = graph.number_of_nodes()\n",
    "    x = [model.binary_var(name=f'x{i}') for i in range(n)]\n",
    "\n",
    "    # Objective function\n",
    "    model.maximize(model.sum(x[i] for i in range(n)))\n",
    "\n",
    "    # Constraints\n",
    "    for i in range(n):\n",
    "        for j in range(i+1, n):\n",
    "            if not graph.has_edge(i, j):\n",
    "                model.add_constraint((x[i] + x[j]) <= 1)\n",
    "\n",
    "    model.add_constraint(model.sum(x[i] for i in range(n)) == k)\n",
    "\n",
    "    qp = QuadraticProgram()\n",
    "    qp.from_docplex(model)\n",
    "    return qp\n",
    "\n",
    "def find_largest_clique(graph):\n",
    "    n = graph.number_of_nodes()\n",
    "    for k in reversed(range(1, n + 1)):\n",
    "        qubo = clique_qubo(graph, k)\n",
    "        quantum_instance = QuantumInstance(Aer.get_backend('qasm_simulator'), shots=1000)\n",
    "        qaoa = QAOA(quantum_instance=quantum_instance)\n",
    "        optimizer = MinimumEigenOptimizer(qaoa)\n",
    "        result = optimizer.solve(qubo)\n",
    "\n",
    "        if result.status == 0:  # 0 means optimal solution found\n",
    "            return k, [i for i, x in enumerate(result.x) if x]\n",
    "\n",
    "# Example usage:\n",
    "edges = [(0, 1), (0, 2), (1, 2), (1, 3), (2, 3), (2, 4), (3, 4)]\n",
    "graph = nx.Graph(edges)\n",
    "\n",
    "largest_clique_size, largest_clique = find_largest_clique(graph)\n",
    "print(\"Largest clique size:\", largest_clique_size)\n",
    "print(\"Largest clique:\", largest_clique)\n"
   ]
  }
 ],
 "metadata": {
  "language_info": {
   "name": "python"
  },
  "orig_nbformat": 4
 },
 "nbformat": 4,
 "nbformat_minor": 2
}
